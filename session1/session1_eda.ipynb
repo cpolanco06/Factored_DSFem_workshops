{
 "cells": [
  {
   "cell_type": "markdown",
   "metadata": {
    "id": "wlUy2z6cwrq9"
   },
   "source": [
    "# Importación y análisis de datos 🤓 🔍\n",
    "\n",
    "Aquí encontrarás una guía básica de cómo realizar una exploración de datos. Iniciando con su importación usando pandas hasta realizar análisis gráfico usando seaborn y matplotlib."
   ]
  },
  {
   "cell_type": "markdown",
   "metadata": {
    "id": "PMxJcBZS3ZxC"
   },
   "source": [
    "### Carga y transformación de datos\n",
    "`pandas` es una librería de python que te permitirá importar diferentes tipos de archivos tales como .csv, .xlsx, .pkl (formato de almacenamiento de modelos de ml) entre otros... también te será muy útil si necesitas crear o transformar variables. En este caso, importaremos los archivos en formato .csv que Factored ha cargado previamente en un bucket de S3 en Amazon AWS. Luego, calcularemos la matriz de correlaciones de Pearson, analizaremos cada una de las variables disponibles en el dataset y crearemos nuevas columnas usando los métodos exclusivos de `pandas` para trabajar con columnas tipo `timestamp`.\n",
    "\n",
    "En la [documentación oficial](https://pandas.pydata.org/pandas-docs/dev/index.html) encontrarás toda la información de los métodos disponibles, una introducción a los principales conceptos de la librería y links con tutoriales."
   ]
  },
  {
   "cell_type": "code",
   "execution_count": 1,
   "metadata": {
    "id": "ql7TQ5Qyz1BZ"
   },
   "outputs": [],
   "source": [
    "import pandas as pd\n",
    "import numpy as np"
   ]
  },
  {
   "cell_type": "code",
   "execution_count": 2,
   "metadata": {
    "colab": {
     "base_uri": "https://localhost:8080/",
     "height": 643
    },
    "id": "eztFVhN4z2TA",
    "outputId": "d207e771-d66b-4ac2-e5c5-5dcba3c3a22d"
   },
   "outputs": [
    {
     "name": "stdout",
     "output_type": "stream",
     "text": [
      "<class 'pandas.core.frame.DataFrame'>\n",
      "RangeIndex: 1447855 entries, 0 to 1447854\n",
      "Data columns (total 13 columns):\n",
      " #   Column              Non-Null Count    Dtype  \n",
      "---  ------              --------------    -----  \n",
      " 0   id                  1447855 non-null  object \n",
      " 1   vendor_id           1447855 non-null  int64  \n",
      " 2   pickup_datetime     1447855 non-null  object \n",
      " 3   dropoff_datetime    1447855 non-null  object \n",
      " 4   passenger_count     1447855 non-null  int64  \n",
      " 5   pickup_longitude    1447855 non-null  float64\n",
      " 6   pickup_latitude     1447855 non-null  float64\n",
      " 7   dropoff_longitude   1447855 non-null  float64\n",
      " 8   dropoff_latitude    1447855 non-null  float64\n",
      " 9   store_and_fwd_flag  1447855 non-null  object \n",
      " 10  trip_duration       1447855 non-null  int64  \n",
      " 11  pickup_borough      1447855 non-null  object \n",
      " 12  dropoff_borough     1447855 non-null  object \n",
      "dtypes: float64(4), int64(3), object(6)\n",
      "memory usage: 143.6+ MB\n"
     ]
    },
    {
     "data": {
      "text/html": [
       "<div>\n",
       "<style scoped>\n",
       "    .dataframe tbody tr th:only-of-type {\n",
       "        vertical-align: middle;\n",
       "    }\n",
       "\n",
       "    .dataframe tbody tr th {\n",
       "        vertical-align: top;\n",
       "    }\n",
       "\n",
       "    .dataframe thead th {\n",
       "        text-align: right;\n",
       "    }\n",
       "</style>\n",
       "<table border=\"1\" class=\"dataframe\">\n",
       "  <thead>\n",
       "    <tr style=\"text-align: right;\">\n",
       "      <th></th>\n",
       "      <th>id</th>\n",
       "      <th>vendor_id</th>\n",
       "      <th>pickup_datetime</th>\n",
       "      <th>dropoff_datetime</th>\n",
       "      <th>passenger_count</th>\n",
       "      <th>pickup_longitude</th>\n",
       "      <th>pickup_latitude</th>\n",
       "      <th>dropoff_longitude</th>\n",
       "      <th>dropoff_latitude</th>\n",
       "      <th>store_and_fwd_flag</th>\n",
       "      <th>trip_duration</th>\n",
       "      <th>pickup_borough</th>\n",
       "      <th>dropoff_borough</th>\n",
       "    </tr>\n",
       "  </thead>\n",
       "  <tbody>\n",
       "    <tr>\n",
       "      <th>0</th>\n",
       "      <td>id2875421</td>\n",
       "      <td>2</td>\n",
       "      <td>2016-03-14 17:24:55</td>\n",
       "      <td>2016-03-14 17:32:30</td>\n",
       "      <td>1</td>\n",
       "      <td>-73.982155</td>\n",
       "      <td>40.767937</td>\n",
       "      <td>-73.964630</td>\n",
       "      <td>40.765602</td>\n",
       "      <td>N</td>\n",
       "      <td>455</td>\n",
       "      <td>Manhattan</td>\n",
       "      <td>Manhattan</td>\n",
       "    </tr>\n",
       "    <tr>\n",
       "      <th>1</th>\n",
       "      <td>id2377394</td>\n",
       "      <td>1</td>\n",
       "      <td>2016-06-12 00:43:35</td>\n",
       "      <td>2016-06-12 00:54:38</td>\n",
       "      <td>1</td>\n",
       "      <td>-73.980415</td>\n",
       "      <td>40.738564</td>\n",
       "      <td>-73.999481</td>\n",
       "      <td>40.731152</td>\n",
       "      <td>N</td>\n",
       "      <td>663</td>\n",
       "      <td>Manhattan</td>\n",
       "      <td>Brooklyn</td>\n",
       "    </tr>\n",
       "    <tr>\n",
       "      <th>2</th>\n",
       "      <td>id3858529</td>\n",
       "      <td>2</td>\n",
       "      <td>2016-01-19 11:35:24</td>\n",
       "      <td>2016-01-19 12:10:48</td>\n",
       "      <td>1</td>\n",
       "      <td>-73.979027</td>\n",
       "      <td>40.763939</td>\n",
       "      <td>-74.005333</td>\n",
       "      <td>40.710087</td>\n",
       "      <td>N</td>\n",
       "      <td>2124</td>\n",
       "      <td>Manhattan</td>\n",
       "      <td>Brooklyn</td>\n",
       "    </tr>\n",
       "    <tr>\n",
       "      <th>3</th>\n",
       "      <td>id3504673</td>\n",
       "      <td>2</td>\n",
       "      <td>2016-04-06 19:32:31</td>\n",
       "      <td>2016-04-06 19:39:40</td>\n",
       "      <td>1</td>\n",
       "      <td>-74.010040</td>\n",
       "      <td>40.719971</td>\n",
       "      <td>-74.012268</td>\n",
       "      <td>40.706718</td>\n",
       "      <td>N</td>\n",
       "      <td>429</td>\n",
       "      <td>Brooklyn</td>\n",
       "      <td>Brooklyn</td>\n",
       "    </tr>\n",
       "    <tr>\n",
       "      <th>4</th>\n",
       "      <td>id2181028</td>\n",
       "      <td>2</td>\n",
       "      <td>2016-03-26 13:30:55</td>\n",
       "      <td>2016-03-26 13:38:10</td>\n",
       "      <td>1</td>\n",
       "      <td>-73.973053</td>\n",
       "      <td>40.793209</td>\n",
       "      <td>-73.972923</td>\n",
       "      <td>40.782520</td>\n",
       "      <td>N</td>\n",
       "      <td>435</td>\n",
       "      <td>Manhattan</td>\n",
       "      <td>Manhattan</td>\n",
       "    </tr>\n",
       "  </tbody>\n",
       "</table>\n",
       "</div>"
      ],
      "text/plain": [
       "          id  vendor_id      pickup_datetime     dropoff_datetime  \\\n",
       "0  id2875421          2  2016-03-14 17:24:55  2016-03-14 17:32:30   \n",
       "1  id2377394          1  2016-06-12 00:43:35  2016-06-12 00:54:38   \n",
       "2  id3858529          2  2016-01-19 11:35:24  2016-01-19 12:10:48   \n",
       "3  id3504673          2  2016-04-06 19:32:31  2016-04-06 19:39:40   \n",
       "4  id2181028          2  2016-03-26 13:30:55  2016-03-26 13:38:10   \n",
       "\n",
       "   passenger_count  pickup_longitude  pickup_latitude  dropoff_longitude  \\\n",
       "0                1        -73.982155        40.767937         -73.964630   \n",
       "1                1        -73.980415        40.738564         -73.999481   \n",
       "2                1        -73.979027        40.763939         -74.005333   \n",
       "3                1        -74.010040        40.719971         -74.012268   \n",
       "4                1        -73.973053        40.793209         -73.972923   \n",
       "\n",
       "   dropoff_latitude store_and_fwd_flag  trip_duration pickup_borough  \\\n",
       "0         40.765602                  N            455      Manhattan   \n",
       "1         40.731152                  N            663      Manhattan   \n",
       "2         40.710087                  N           2124      Manhattan   \n",
       "3         40.706718                  N            429       Brooklyn   \n",
       "4         40.782520                  N            435      Manhattan   \n",
       "\n",
       "  dropoff_borough  \n",
       "0       Manhattan  \n",
       "1        Brooklyn  \n",
       "2        Brooklyn  \n",
       "3        Brooklyn  \n",
       "4       Manhattan  "
      ]
     },
     "execution_count": 2,
     "metadata": {},
     "output_type": "execute_result"
    }
   ],
   "source": [
    "# Importamos dataset desde servidor de Factored\n",
    "#df_train = pd.read_csv(\"https://factored-workshops.s3.amazonaws.com/taxi-trip-duration.csv\")\n",
    "# Importamos dataset desde local\n",
    "df_train = pd.read_csv(\"../datasets/taxi-trip-duration.csv\")\n",
    "df_train.info()\n",
    "df_train.head()"
   ]
  },
  {
   "cell_type": "markdown",
   "metadata": {
    "id": "2G4zO7SAxDMf"
   },
   "source": [
    "El objetivo de este modelo es predecir el tiempo total del trayecto en taxi, por lo tanto, no podemos incluir en él la variable `dropoff_datetime` dado que estaríamos incluyendo en el modelo una variable con la cual se puede calcular la variable respuesta (`duración del trayecto = pickup_datetime - dropoff_datetime`) y por lo tanto debe ser eliminada. Este escenario es más conocido como [data leakage.](https://www.kaggle.com/alexisbcook/data-leakage)"
   ]
  },
  {
   "cell_type": "code",
   "execution_count": 3,
   "metadata": {
    "id": "dCVrkiXBz4bF"
   },
   "outputs": [],
   "source": [
    "df_train = df_train.drop(\"dropoff_datetime\", axis=1)"
   ]
  },
  {
   "cell_type": "markdown",
   "metadata": {
    "id": "Vaguin_0xtB5"
   },
   "source": [
    "Para revisar el tipo de dato de cada columna del data frame de pandas se puede usar la propiedad `dtypes`."
   ]
  },
  {
   "cell_type": "code",
   "execution_count": 4,
   "metadata": {
    "colab": {
     "base_uri": "https://localhost:8080/"
    },
    "id": "KlCgnW_J0A7Y",
    "outputId": "fc8681d2-90e1-444b-e207-ca97a37e682f"
   },
   "outputs": [
    {
     "data": {
      "text/plain": [
       "id                     object\n",
       "vendor_id               int64\n",
       "pickup_datetime        object\n",
       "passenger_count         int64\n",
       "pickup_longitude      float64\n",
       "pickup_latitude       float64\n",
       "dropoff_longitude     float64\n",
       "dropoff_latitude      float64\n",
       "store_and_fwd_flag     object\n",
       "trip_duration           int64\n",
       "pickup_borough         object\n",
       "dropoff_borough        object\n",
       "dtype: object"
      ]
     },
     "execution_count": 4,
     "metadata": {},
     "output_type": "execute_result"
    }
   ],
   "source": [
    "df_train.dtypes"
   ]
  },
  {
   "cell_type": "markdown",
   "metadata": {
    "id": "6iO3qL7cyYaF"
   },
   "source": [
    "Como podemos ver, la columna `pickup_datetime` debería tener un formato de fecha. Sin embargo, está como `string`. Usando la función `to_datetime()` podemos convertir la columna a formato de fecha."
   ]
  },
  {
   "cell_type": "code",
   "execution_count": 5,
   "metadata": {
    "id": "lyKhJnpA0DY_"
   },
   "outputs": [],
   "source": [
    "df_train['pickup_datetime'] = pd.to_datetime(df_train['pickup_datetime'])"
   ]
  },
  {
   "cell_type": "markdown",
   "metadata": {
    "id": "NSVs3Pp7yijN"
   },
   "source": [
    "Teniendo la columna `pickup_datetime` en formato fecha podemos usar las propiedades que tiene este tipo de dato para extraer el año, mes, día de la semana y hora."
   ]
  },
  {
   "cell_type": "code",
   "execution_count": 6,
   "metadata": {
    "colab": {
     "base_uri": "https://localhost:8080/",
     "height": 203
    },
    "id": "zEVfWiMc0Rc6",
    "outputId": "fbf36ce7-d4d0-4efa-d9b3-e12fa4919708"
   },
   "outputs": [
    {
     "data": {
      "text/html": [
       "<div>\n",
       "<style scoped>\n",
       "    .dataframe tbody tr th:only-of-type {\n",
       "        vertical-align: middle;\n",
       "    }\n",
       "\n",
       "    .dataframe tbody tr th {\n",
       "        vertical-align: top;\n",
       "    }\n",
       "\n",
       "    .dataframe thead th {\n",
       "        text-align: right;\n",
       "    }\n",
       "</style>\n",
       "<table border=\"1\" class=\"dataframe\">\n",
       "  <thead>\n",
       "    <tr style=\"text-align: right;\">\n",
       "      <th></th>\n",
       "      <th>pickup_datetime</th>\n",
       "      <th>year</th>\n",
       "      <th>month</th>\n",
       "      <th>weekday</th>\n",
       "      <th>hour</th>\n",
       "    </tr>\n",
       "  </thead>\n",
       "  <tbody>\n",
       "    <tr>\n",
       "      <th>0</th>\n",
       "      <td>2016-03-14 17:24:55</td>\n",
       "      <td>2016</td>\n",
       "      <td>3</td>\n",
       "      <td>0</td>\n",
       "      <td>17</td>\n",
       "    </tr>\n",
       "    <tr>\n",
       "      <th>1</th>\n",
       "      <td>2016-06-12 00:43:35</td>\n",
       "      <td>2016</td>\n",
       "      <td>6</td>\n",
       "      <td>6</td>\n",
       "      <td>0</td>\n",
       "    </tr>\n",
       "    <tr>\n",
       "      <th>2</th>\n",
       "      <td>2016-01-19 11:35:24</td>\n",
       "      <td>2016</td>\n",
       "      <td>1</td>\n",
       "      <td>1</td>\n",
       "      <td>11</td>\n",
       "    </tr>\n",
       "    <tr>\n",
       "      <th>3</th>\n",
       "      <td>2016-04-06 19:32:31</td>\n",
       "      <td>2016</td>\n",
       "      <td>4</td>\n",
       "      <td>2</td>\n",
       "      <td>19</td>\n",
       "    </tr>\n",
       "    <tr>\n",
       "      <th>4</th>\n",
       "      <td>2016-03-26 13:30:55</td>\n",
       "      <td>2016</td>\n",
       "      <td>3</td>\n",
       "      <td>5</td>\n",
       "      <td>13</td>\n",
       "    </tr>\n",
       "  </tbody>\n",
       "</table>\n",
       "</div>"
      ],
      "text/plain": [
       "      pickup_datetime  year  month  weekday  hour\n",
       "0 2016-03-14 17:24:55  2016      3        0    17\n",
       "1 2016-06-12 00:43:35  2016      6        6     0\n",
       "2 2016-01-19 11:35:24  2016      1        1    11\n",
       "3 2016-04-06 19:32:31  2016      4        2    19\n",
       "4 2016-03-26 13:30:55  2016      3        5    13"
      ]
     },
     "execution_count": 6,
     "metadata": {},
     "output_type": "execute_result"
    }
   ],
   "source": [
    "df_train[\"year\"] = df_train[\"pickup_datetime\"].dt.year\n",
    "df_train[\"month\"] = df_train[\"pickup_datetime\"].dt.month\n",
    "df_train[\"weekday\"] = df_train[\"pickup_datetime\"].dt.weekday\n",
    "df_train[\"hour\"] = df_train[\"pickup_datetime\"].dt.hour\n",
    "\n",
    "df_train[[\"pickup_datetime\",\"year\",\"month\",\"weekday\",\"hour\"]].head()"
   ]
  },
  {
   "cell_type": "markdown",
   "metadata": {
    "id": "aFnlRFM-y-ob"
   },
   "source": [
    "Usando la propiedad `shape` que tienen los data frames de pandas es posible ver su dimensión (# filas, # columnas)"
   ]
  },
  {
   "cell_type": "code",
   "execution_count": 7,
   "metadata": {
    "colab": {
     "base_uri": "https://localhost:8080/"
    },
    "id": "0a8lvquC0WfU",
    "outputId": "2f1a4f9f-229e-46a9-d13e-8beec8f00954"
   },
   "outputs": [
    {
     "data": {
      "text/plain": [
       "(1447855, 16)"
      ]
     },
     "execution_count": 7,
     "metadata": {},
     "output_type": "execute_result"
    }
   ],
   "source": [
    "df_train.shape"
   ]
  },
  {
   "cell_type": "markdown",
   "metadata": {
    "id": "FsZWfcdCzGD0"
   },
   "source": [
    "Una forma rápida de ver las estadísticas descriptivas de las columnas del data frame es usar el método `describe()`."
   ]
  },
  {
   "cell_type": "code",
   "execution_count": 8,
   "metadata": {
    "colab": {
     "base_uri": "https://localhost:8080/",
     "height": 295
    },
    "id": "hn3LVk6P0Z1k",
    "outputId": "a7ca983e-08c5-412a-b7a5-e78abb383afc"
   },
   "outputs": [
    {
     "data": {
      "text/html": [
       "<div>\n",
       "<style scoped>\n",
       "    .dataframe tbody tr th:only-of-type {\n",
       "        vertical-align: middle;\n",
       "    }\n",
       "\n",
       "    .dataframe tbody tr th {\n",
       "        vertical-align: top;\n",
       "    }\n",
       "\n",
       "    .dataframe thead th {\n",
       "        text-align: right;\n",
       "    }\n",
       "</style>\n",
       "<table border=\"1\" class=\"dataframe\">\n",
       "  <thead>\n",
       "    <tr style=\"text-align: right;\">\n",
       "      <th></th>\n",
       "      <th>vendor_id</th>\n",
       "      <th>passenger_count</th>\n",
       "      <th>pickup_longitude</th>\n",
       "      <th>pickup_latitude</th>\n",
       "      <th>dropoff_longitude</th>\n",
       "      <th>dropoff_latitude</th>\n",
       "      <th>trip_duration</th>\n",
       "      <th>year</th>\n",
       "      <th>month</th>\n",
       "      <th>weekday</th>\n",
       "      <th>hour</th>\n",
       "    </tr>\n",
       "  </thead>\n",
       "  <tbody>\n",
       "    <tr>\n",
       "      <th>count</th>\n",
       "      <td>1447855.00000</td>\n",
       "      <td>1447855.00000</td>\n",
       "      <td>1447855.00000</td>\n",
       "      <td>1447855.00000</td>\n",
       "      <td>1447855.00000</td>\n",
       "      <td>1447855.00000</td>\n",
       "      <td>1447855.00000</td>\n",
       "      <td>1447855.00000</td>\n",
       "      <td>1447855.00000</td>\n",
       "      <td>1447855.00000</td>\n",
       "      <td>1447855.00000</td>\n",
       "    </tr>\n",
       "    <tr>\n",
       "      <th>mean</th>\n",
       "      <td>1.53507</td>\n",
       "      <td>1.66538</td>\n",
       "      <td>-73.97361</td>\n",
       "      <td>40.75097</td>\n",
       "      <td>-73.97354</td>\n",
       "      <td>40.75185</td>\n",
       "      <td>843.11907</td>\n",
       "      <td>2016.00000</td>\n",
       "      <td>3.51651</td>\n",
       "      <td>3.04952</td>\n",
       "      <td>13.61218</td>\n",
       "    </tr>\n",
       "    <tr>\n",
       "      <th>std</th>\n",
       "      <td>0.49877</td>\n",
       "      <td>1.31472</td>\n",
       "      <td>0.07066</td>\n",
       "      <td>0.03259</td>\n",
       "      <td>0.07040</td>\n",
       "      <td>0.03563</td>\n",
       "      <td>682.37671</td>\n",
       "      <td>0.00000</td>\n",
       "      <td>1.68107</td>\n",
       "      <td>1.95379</td>\n",
       "      <td>6.39659</td>\n",
       "    </tr>\n",
       "    <tr>\n",
       "      <th>min</th>\n",
       "      <td>1.00000</td>\n",
       "      <td>0.00000</td>\n",
       "      <td>-121.93334</td>\n",
       "      <td>34.35970</td>\n",
       "      <td>-121.93330</td>\n",
       "      <td>32.18114</td>\n",
       "      <td>61.00000</td>\n",
       "      <td>2016.00000</td>\n",
       "      <td>1.00000</td>\n",
       "      <td>0.00000</td>\n",
       "      <td>0.00000</td>\n",
       "    </tr>\n",
       "    <tr>\n",
       "      <th>25%</th>\n",
       "      <td>1.00000</td>\n",
       "      <td>1.00000</td>\n",
       "      <td>-73.99187</td>\n",
       "      <td>40.73740</td>\n",
       "      <td>-73.99133</td>\n",
       "      <td>40.73594</td>\n",
       "      <td>401.00000</td>\n",
       "      <td>2016.00000</td>\n",
       "      <td>2.00000</td>\n",
       "      <td>1.00000</td>\n",
       "      <td>9.00000</td>\n",
       "    </tr>\n",
       "    <tr>\n",
       "      <th>50%</th>\n",
       "      <td>2.00000</td>\n",
       "      <td>1.00000</td>\n",
       "      <td>-73.98177</td>\n",
       "      <td>40.75413</td>\n",
       "      <td>-73.97977</td>\n",
       "      <td>40.75455</td>\n",
       "      <td>665.00000</td>\n",
       "      <td>2016.00000</td>\n",
       "      <td>4.00000</td>\n",
       "      <td>3.00000</td>\n",
       "      <td>14.00000</td>\n",
       "    </tr>\n",
       "    <tr>\n",
       "      <th>75%</th>\n",
       "      <td>2.00000</td>\n",
       "      <td>2.00000</td>\n",
       "      <td>-73.96742</td>\n",
       "      <td>40.76836</td>\n",
       "      <td>-73.96310</td>\n",
       "      <td>40.76982</td>\n",
       "      <td>1076.00000</td>\n",
       "      <td>2016.00000</td>\n",
       "      <td>5.00000</td>\n",
       "      <td>5.00000</td>\n",
       "      <td>19.00000</td>\n",
       "    </tr>\n",
       "    <tr>\n",
       "      <th>max</th>\n",
       "      <td>2.00000</td>\n",
       "      <td>9.00000</td>\n",
       "      <td>-61.33553</td>\n",
       "      <td>51.88108</td>\n",
       "      <td>-61.33553</td>\n",
       "      <td>43.92103</td>\n",
       "      <td>35426.00000</td>\n",
       "      <td>2016.00000</td>\n",
       "      <td>6.00000</td>\n",
       "      <td>6.00000</td>\n",
       "      <td>23.00000</td>\n",
       "    </tr>\n",
       "  </tbody>\n",
       "</table>\n",
       "</div>"
      ],
      "text/plain": [
       "          vendor_id  passenger_count  pickup_longitude  pickup_latitude  \\\n",
       "count 1447855.00000    1447855.00000     1447855.00000    1447855.00000   \n",
       "mean        1.53507          1.66538         -73.97361         40.75097   \n",
       "std         0.49877          1.31472           0.07066          0.03259   \n",
       "min         1.00000          0.00000        -121.93334         34.35970   \n",
       "25%         1.00000          1.00000         -73.99187         40.73740   \n",
       "50%         2.00000          1.00000         -73.98177         40.75413   \n",
       "75%         2.00000          2.00000         -73.96742         40.76836   \n",
       "max         2.00000          9.00000         -61.33553         51.88108   \n",
       "\n",
       "       dropoff_longitude  dropoff_latitude  trip_duration          year  \\\n",
       "count      1447855.00000     1447855.00000  1447855.00000 1447855.00000   \n",
       "mean           -73.97354          40.75185      843.11907    2016.00000   \n",
       "std              0.07040           0.03563      682.37671       0.00000   \n",
       "min           -121.93330          32.18114       61.00000    2016.00000   \n",
       "25%            -73.99133          40.73594      401.00000    2016.00000   \n",
       "50%            -73.97977          40.75455      665.00000    2016.00000   \n",
       "75%            -73.96310          40.76982     1076.00000    2016.00000   \n",
       "max            -61.33553          43.92103    35426.00000    2016.00000   \n",
       "\n",
       "              month       weekday          hour  \n",
       "count 1447855.00000 1447855.00000 1447855.00000  \n",
       "mean        3.51651       3.04952      13.61218  \n",
       "std         1.68107       1.95379       6.39659  \n",
       "min         1.00000       0.00000       0.00000  \n",
       "25%         2.00000       1.00000       9.00000  \n",
       "50%         4.00000       3.00000      14.00000  \n",
       "75%         5.00000       5.00000      19.00000  \n",
       "max         6.00000       6.00000      23.00000  "
      ]
     },
     "execution_count": 8,
     "metadata": {},
     "output_type": "execute_result"
    }
   ],
   "source": [
    "pd.set_option('display.float_format', lambda x: '%.5f' % x)\n",
    "df_train.describe()"
   ]
  },
  {
   "cell_type": "markdown",
   "metadata": {
    "id": "SlsbJFTYzU03"
   },
   "source": [
    "De las estadísticas descriptivas podemos concluir los siguientes puntos:\n",
    "* La cantidad de pasajeros transportados va desde 0 hasta 9\n",
    "* La duración puede tomar mínimo 1 segundo y máximo 3'526.282 segundos que aproximadamente son 5.938 horas (¿Estos datos tienen sentido?) Es importante revisar si existen datos atípicos.\n",
    "*Los datos corresponden a los meses entre enero y junio del año 2016"
   ]
  },
  {
   "cell_type": "code",
   "execution_count": 9,
   "metadata": {
    "colab": {
     "base_uri": "https://localhost:8080/",
     "height": 357
    },
    "id": "zP-58IXT0fei",
    "outputId": "dd4f8bed-95de-4bec-c068-b346b5cce757"
   },
   "outputs": [
    {
     "data": {
      "text/html": [
       "<div>\n",
       "<style scoped>\n",
       "    .dataframe tbody tr th:only-of-type {\n",
       "        vertical-align: middle;\n",
       "    }\n",
       "\n",
       "    .dataframe tbody tr th {\n",
       "        vertical-align: top;\n",
       "    }\n",
       "\n",
       "    .dataframe thead th {\n",
       "        text-align: right;\n",
       "    }\n",
       "</style>\n",
       "<table border=\"1\" class=\"dataframe\">\n",
       "  <thead>\n",
       "    <tr style=\"text-align: right;\">\n",
       "      <th></th>\n",
       "      <th>id</th>\n",
       "      <th>trip_duration</th>\n",
       "    </tr>\n",
       "  </thead>\n",
       "  <tbody>\n",
       "    <tr>\n",
       "      <th>1320061</th>\n",
       "      <td>id3019961</td>\n",
       "      <td>35426</td>\n",
       "    </tr>\n",
       "    <tr>\n",
       "      <th>1264157</th>\n",
       "      <td>id3815739</td>\n",
       "      <td>35270</td>\n",
       "    </tr>\n",
       "    <tr>\n",
       "      <th>1220144</th>\n",
       "      <td>id3747466</td>\n",
       "      <td>35189</td>\n",
       "    </tr>\n",
       "    <tr>\n",
       "      <th>872320</th>\n",
       "      <td>id0211213</td>\n",
       "      <td>35022</td>\n",
       "    </tr>\n",
       "    <tr>\n",
       "      <th>868880</th>\n",
       "      <td>id3206453</td>\n",
       "      <td>34920</td>\n",
       "    </tr>\n",
       "    <tr>\n",
       "      <th>642761</th>\n",
       "      <td>id2456509</td>\n",
       "      <td>34916</td>\n",
       "    </tr>\n",
       "    <tr>\n",
       "      <th>524729</th>\n",
       "      <td>id3253229</td>\n",
       "      <td>34014</td>\n",
       "    </tr>\n",
       "    <tr>\n",
       "      <th>999809</th>\n",
       "      <td>id3548289</td>\n",
       "      <td>32495</td>\n",
       "    </tr>\n",
       "    <tr>\n",
       "      <th>931728</th>\n",
       "      <td>id1745350</td>\n",
       "      <td>32338</td>\n",
       "    </tr>\n",
       "    <tr>\n",
       "      <th>1369267</th>\n",
       "      <td>id2954681</td>\n",
       "      <td>32322</td>\n",
       "    </tr>\n",
       "  </tbody>\n",
       "</table>\n",
       "</div>"
      ],
      "text/plain": [
       "                id  trip_duration\n",
       "1320061  id3019961          35426\n",
       "1264157  id3815739          35270\n",
       "1220144  id3747466          35189\n",
       "872320   id0211213          35022\n",
       "868880   id3206453          34920\n",
       "642761   id2456509          34916\n",
       "524729   id3253229          34014\n",
       "999809   id3548289          32495\n",
       "931728   id1745350          32338\n",
       "1369267  id2954681          32322"
      ]
     },
     "execution_count": 9,
     "metadata": {},
     "output_type": "execute_result"
    }
   ],
   "source": [
    "df_train[['id','trip_duration']].sort_values('trip_duration', ascending=False).head(n=10)"
   ]
  },
  {
   "cell_type": "markdown",
   "metadata": {
    "id": "gY59nzgbzqaM"
   },
   "source": [
    "Organizando los registros en orden descendente por la variable `trip_duration` nos podemos dar cuenta que hay 5 registros que tienen un valor mayor a 1'900.000 segundos (Aprox. 22 días). Estos registros pueden ser calificados como outliers y por lo tanto pueden ser eliminados."
   ]
  },
  {
   "cell_type": "code",
   "execution_count": 10,
   "metadata": {
    "id": "wKmnaIOF1DUD"
   },
   "outputs": [],
   "source": [
    "df_train = df_train[df_train['trip_duration'] < 100000]"
   ]
  },
  {
   "cell_type": "markdown",
   "metadata": {
    "id": "wMrAPaJwzxga"
   },
   "source": [
    "**CHECK POINT #1**\n",
    "\n",
    "Con cuántos registros y columnas queda el data set?"
   ]
  },
  {
   "cell_type": "code",
   "execution_count": 11,
   "metadata": {
    "colab": {
     "base_uri": "https://localhost:8080/"
    },
    "id": "rjHHk6gU1uOG",
    "outputId": "74e45883-5030-40ba-dd9b-4f3dc35a8f7a"
   },
   "outputs": [
    {
     "data": {
      "text/plain": [
       "(1447855, 16)"
      ]
     },
     "execution_count": 11,
     "metadata": {},
     "output_type": "execute_result"
    }
   ],
   "source": [
    "df_train.shape"
   ]
  },
  {
   "cell_type": "markdown",
   "metadata": {
    "id": "pJRoeisU3jwU"
   },
   "source": [
    "### Análisis de variables\n",
    "Para iniciar el análisis de variables se recomienda revisar las distribuciones de las variables, su comportamiento bi-variado y la correlación entre estas.\n",
    "\n",
    "Para realizar análisis de forma gráfica hay una gran variedad de librerías en Python como `seaborn`, `matplotlib`, `plotly` entre otras. `seaborn` y `matplotlib` son muy similares dado que `seaborn` es una librería basada en `matplotlib` pero con un diseño más sofisticado y más agradable a los ojos del usuario, `plotly` por su lado crea gráficos más dinámicos e interactivos."
   ]
  },
  {
   "cell_type": "code",
   "execution_count": 12,
   "metadata": {
    "id": "QHHfrF6a1wvZ"
   },
   "outputs": [],
   "source": [
    "#!pip install plotly #ejecutar este comando si no se tiene la librería de plotly instalada\n",
    "import matplotlib.pyplot as plt\n",
    "import seaborn as sns\n",
    "import plotly.express as px"
   ]
  },
  {
   "cell_type": "markdown",
   "metadata": {
    "id": "GRWuqDh40giV"
   },
   "source": [
    "#### Matriz de correlaciones"
   ]
  },
  {
   "cell_type": "code",
   "execution_count": 13,
   "metadata": {
    "colab": {
     "base_uri": "https://localhost:8080/",
     "height": 613
    },
    "id": "5Hs6KrtT31Qt",
    "outputId": "e54629ae-dccf-457c-8537-8907b9494e80"
   },
   "outputs": [
    {
     "data": {
      "text/plain": [
       "<AxesSubplot:>"
      ]
     },
     "execution_count": 13,
     "metadata": {},
     "output_type": "execute_result"
    },
    {
     "data": {
      "image/png": "[encoded data removed]",
      "text/plain": [
       "<Figure size 1800x720 with 2 Axes>"
      ]
     },
     "metadata": {
      "needs_background": "light"
     },
     "output_type": "display_data"
    }
   ],
   "source": [
    "plt.subplots(figsize=(25,10))\n",
    "sns.heatmap(df_train.corr(), annot=True, fmt='.1g', cmap=\"mako\")"
   ]
  },
  {
   "cell_type": "markdown",
   "metadata": {
    "id": "PC4uJOyt0sTX"
   },
   "source": [
    "En algunos algoritmos como en la regresión logística es importante **no incluir** dos variables que estén correlacionadas dado que esto afecta los estimadores de los parámetros. Realizar este análisis nos ayudará a entender qué pares de variables están correlacionadas y dependiendo del algoritmo que estemos usando podremos decidir cuál incluir y cuál no. La correlación más usada es la [correlación de Pearson](https://es.wikipedia.org/wiki/Coeficiente_de_correlaci%C3%B3n_de_Pearson). Sin embargo, también puedes usar la [correlación de spearman](https://es.wikipedia.org/wiki/Coeficiente_de_correlaci%C3%B3n_de_Spearman) si lo que buscas es evaluar la relación monotónica entre dos variables en lugar de la relación lineal entre ellas. [Este artículo](https://towardsdatascience.com/clearly-explained-pearson-v-s-spearman-correlation-coefficient-ada2f473b8) lo explica a mayor profundidad."
   ]
  },
  {
   "cell_type": "markdown",
   "metadata": {
    "id": "xnNNmVb31UH4"
   },
   "source": [
    "#### Variable respuesta: `trip_duration`\n",
    "Para revisar la distribución de una variable podemos usar un boxplot dado que nos indicará cuales son los límites de los cuartiles de la variable."
   ]
  },
  {
   "cell_type": "code",
   "execution_count": 14,
   "metadata": {
    "colab": {
     "base_uri": "https://localhost:8080/",
     "height": 295
    },
    "id": "BIqOXwaF33bh",
    "outputId": "437d709e-2fc4-4281-f2b6-3c2bf92015da"
   },
   "outputs": [
    {
     "data": {
      "image/png": "[encoded data removed]",
      "text/plain": [
       "<Figure size 432x288 with 1 Axes>"
      ]
     },
     "metadata": {
      "needs_background": "light"
     },
     "output_type": "display_data"
    }
   ],
   "source": [
    "fig, ax = plt.subplots()\n",
    "sns.boxplot(data = df_train,\n",
    "            x = \"trip_duration\",\n",
    "            ax = ax)\n",
    "ax.set_title(\"Boxplot: trip duration\")\n",
    "ax.set_xlabel(\"Trip duration\")\n",
    "\n",
    "plt.show()"
   ]
  },
  {
   "cell_type": "markdown",
   "metadata": {
    "id": "v2jy_21-1mVc"
   },
   "source": [
    "Dado que la variable tiene muchos outliers podemos truncar el rango del eje x de la gráfica para visualizar mejor los cuartiles. Para esto, podemos usar la opción `ax.set_xlim()` de `matplotlib`."
   ]
  },
  {
   "cell_type": "code",
   "execution_count": 15,
   "metadata": {
    "colab": {
     "base_uri": "https://localhost:8080/",
     "height": 295
    },
    "id": "1YT2gLFR4gOv",
    "outputId": "4fe28935-3b9f-483e-e3f5-b9e0d74ce7d2"
   },
   "outputs": [
    {
     "data": {
      "image/png": "[encoded data removed]",
      "text/plain": [
       "<Figure size 432x288 with 1 Axes>"
      ]
     },
     "metadata": {
      "needs_background": "light"
     },
     "output_type": "display_data"
    }
   ],
   "source": [
    "fig, ax = plt.subplots()\n",
    "sns.boxplot(data = df_train,\n",
    "            x = \"trip_duration\",\n",
    "            ax = ax)\n",
    "ax.set_xlim(0, 10000)\n",
    "ax.set_title(\"Boxplot: Trip duration\")\n",
    "ax.set_xlabel(\"Trip duration\")\n",
    "plt.show()"
   ]
  },
  {
   "cell_type": "markdown",
   "metadata": {
    "id": "13vAfeGo119z"
   },
   "source": [
    "Otra versión del boxplot para la variable `trip_duration` usando la librería `plotly`."
   ]
  },
  {
   "cell_type": "code",
   "execution_count": 16,
   "metadata": {
    "colab": {
     "base_uri": "https://localhost:8080/",
     "height": 542
    },
    "id": "aYwu6Gwd5Ef8",
    "outputId": "b725c7ad-517d-4407-f162-41456c77f9e8"
   },
   "outputs": [
    {
     "data": {
      "text/plain": [
       "'\\nfig = px.box(df_train,\\n             y = \"trip_duration\",\\n             labels = {\"trip_duration\": \"Trip duration\"},\\n             title = \"Boxplot: Trip duration\")\\nfig.update_yaxes(range=[0, 10000])\\nfig.show()\\n'"
      ]
     },
     "execution_count": 16,
     "metadata": {},
     "output_type": "execute_result"
    }
   ],
   "source": [
    "'''\n",
    "fig = px.box(df_train,\n",
    "             y = \"trip_duration\",\n",
    "             labels = {\"trip_duration\": \"Trip duration\"},\n",
    "             title = \"Boxplot: Trip duration\")\n",
    "fig.update_yaxes(range=[0, 10000])\n",
    "fig.show()\n",
    "'''"
   ]
  },
  {
   "cell_type": "markdown",
   "metadata": {
    "id": "_ekmXVKC2RBb"
   },
   "source": [
    "Luego de ver con diferentes librerías cómo es la distribución de la variable respuesta `trip_duration` podemos concluir que tiene muchos outliers, el promedio de duración de 662seg (es decir, 11 minutos) y el 75% de los viajes duran 1075seg o menos (18min)."
   ]
  },
  {
   "cell_type": "markdown",
   "metadata": {
    "id": "K-ApRPDa2Xmb"
   },
   "source": [
    "#### Vendor Id\n",
    "Usando `seaborn` podemos realizar una gráfica de dispersión de datos cuando una de las variables es categórica, su nombre es `stripplot`."
   ]
  },
  {
   "cell_type": "code",
   "execution_count": 17,
   "metadata": {
    "colab": {
     "base_uri": "https://localhost:8080/",
     "height": 476
    },
    "id": "sYr2eM9z9EB8",
    "outputId": "bb6bdb90-7b0d-4bf5-d1bc-6c4412e1ed15"
   },
   "outputs": [
    {
     "data": {
      "text/plain": [
       "Text(0.5, 1.0, 'Vendor Id vs. Trip duration')"
      ]
     },
     "execution_count": 17,
     "metadata": {},
     "output_type": "execute_result"
    },
    {
     "data": {
      "image/png": "[encoded data removed]",
      "text/plain": [
       "<Figure size 864x504 with 1 Axes>"
      ]
     },
     "metadata": {
      "needs_background": "light"
     },
     "output_type": "display_data"
    }
   ],
   "source": [
    "fig, ax = plt.subplots(figsize=(12, 7))\n",
    "sns.stripplot(data = df_train,\n",
    "              x = \"vendor_id\",\n",
    "              y = \"trip_duration\",\n",
    "              ax = ax)\n",
    "ax.set_title(\"Vendor Id vs. Trip duration\")"
   ]
  },
  {
   "cell_type": "markdown",
   "metadata": {
    "id": "trNVSoUJ2PS1"
   },
   "source": [
    "Podemos ver que la mayoría de viajes del vendedor 1 están en su mayoría por debajo de 10.000 segundos (aprox. 2.7 horas), a diferencia del vendedor 2 donde hay muchos registros donde se supera este límite de tiempo."
   ]
  },
  {
   "cell_type": "markdown",
   "metadata": {
    "id": "IMUIS1oK2vm2"
   },
   "source": [
    "#### Month\n",
    "**CHECK POINT #2**\n",
    "\n",
    "Cómo se vería un gráfico de dispersión de la duración del viaje en los diferentes meses del año?"
   ]
  },
  {
   "cell_type": "code",
   "execution_count": 18,
   "metadata": {
    "colab": {
     "base_uri": "https://localhost:8080/"
    },
    "id": "opuVdkC_9KOZ",
    "outputId": "fa0074c1-e63e-4b8c-a569-89be91eb90f5"
   },
   "outputs": [
    {
     "data": {
      "text/plain": [
       "Text(0.5, 1.0, 'Months vs. Trip duration')"
      ]
     },
     "execution_count": 18,
     "metadata": {},
     "output_type": "execute_result"
    },
    {
     "data": {
      "image/png": "[encoded data removed]",
      "text/plain": [
       "<Figure size 864x504 with 1 Axes>"
      ]
     },
     "metadata": {
      "needs_background": "light"
     },
     "output_type": "display_data"
    }
   ],
   "source": [
    "fig, ax = plt.subplots(figsize=(12, 7))\n",
    "sns.stripplot(data = df_train,\n",
    "              x = \"month\",\n",
    "              y = \"trip_duration\",\n",
    "              ax = ax)\n",
    "ax.set_title(\"Months vs. Trip duration\")"
   ]
  },
  {
   "cell_type": "markdown",
   "metadata": {
    "id": "-C2BcrP43iDX"
   },
   "source": [
    "Usando los métodos `groupby` y `agg` podrás agregar las columnas y calcular métricas sobre cada agrupación."
   ]
  },
  {
   "cell_type": "code",
   "execution_count": 19,
   "metadata": {
    "id": "DnlCamSK9tQR"
   },
   "outputs": [
    {
     "data": {
      "text/html": [
       "<div>\n",
       "<style scoped>\n",
       "    .dataframe tbody tr th:only-of-type {\n",
       "        vertical-align: middle;\n",
       "    }\n",
       "\n",
       "    .dataframe tbody tr th {\n",
       "        vertical-align: top;\n",
       "    }\n",
       "\n",
       "    .dataframe thead tr th {\n",
       "        text-align: left;\n",
       "    }\n",
       "\n",
       "    .dataframe thead tr:last-of-type th {\n",
       "        text-align: right;\n",
       "    }\n",
       "</style>\n",
       "<table border=\"1\" class=\"dataframe\">\n",
       "  <thead>\n",
       "    <tr>\n",
       "      <th></th>\n",
       "      <th colspan=\"2\" halign=\"left\">trip_duration</th>\n",
       "    </tr>\n",
       "    <tr>\n",
       "      <th></th>\n",
       "      <th>mean</th>\n",
       "      <th>count</th>\n",
       "    </tr>\n",
       "    <tr>\n",
       "      <th>month</th>\n",
       "      <th></th>\n",
       "      <th></th>\n",
       "    </tr>\n",
       "  </thead>\n",
       "  <tbody>\n",
       "    <tr>\n",
       "      <th>1</th>\n",
       "      <td>796.44573</td>\n",
       "      <td>228065</td>\n",
       "    </tr>\n",
       "    <tr>\n",
       "      <th>2</th>\n",
       "      <td>795.39202</td>\n",
       "      <td>236600</td>\n",
       "    </tr>\n",
       "    <tr>\n",
       "      <th>3</th>\n",
       "      <td>823.72103</td>\n",
       "      <td>254322</td>\n",
       "    </tr>\n",
       "    <tr>\n",
       "      <th>4</th>\n",
       "      <td>854.07138</td>\n",
       "      <td>249709</td>\n",
       "    </tr>\n",
       "    <tr>\n",
       "      <th>5</th>\n",
       "      <td>890.15561</td>\n",
       "      <td>246619</td>\n",
       "    </tr>\n",
       "    <tr>\n",
       "      <th>6</th>\n",
       "      <td>897.02434</td>\n",
       "      <td>232540</td>\n",
       "    </tr>\n",
       "  </tbody>\n",
       "</table>\n",
       "</div>"
      ],
      "text/plain": [
       "      trip_duration        \n",
       "               mean   count\n",
       "month                      \n",
       "1         796.44573  228065\n",
       "2         795.39202  236600\n",
       "3         823.72103  254322\n",
       "4         854.07138  249709\n",
       "5         890.15561  246619\n",
       "6         897.02434  232540"
      ]
     },
     "execution_count": 19,
     "metadata": {},
     "output_type": "execute_result"
    }
   ],
   "source": [
    "df_train[['month', 'trip_duration']].groupby(by=['month']).agg({'trip_duration':['mean', 'count']})"
   ]
  },
  {
   "cell_type": "markdown",
   "metadata": {
    "id": "XSW7VxRc3qyc"
   },
   "source": [
    "En el resultado, podemos ver que alrededor de 230.000 - 240.0000 viajes se hacen por mes y la duración promedio está entre 900 y 1000 segundos (aprox. 15 - 16 min)."
   ]
  },
  {
   "cell_type": "markdown",
   "metadata": {
    "id": "Gd45yDVV3u9J"
   },
   "source": [
    "#### Hour\n",
    "Usando los métodos de agregación crearemos un nuevo dataframe de pandas para poder representar estas métricas en gráficos de barra."
   ]
  },
  {
   "cell_type": "code",
   "execution_count": 20,
   "metadata": {
    "id": "ZJ7YUmFS-0pZ"
   },
   "outputs": [
    {
     "data": {
      "text/plain": [
       "Text(0, 0.5, 'Trips')"
      ]
     },
     "execution_count": 20,
     "metadata": {},
     "output_type": "execute_result"
    },
    {
     "data": {
      "image/png": "[encoded data removed]",
      "text/plain": [
       "<Figure size 864x504 with 1 Axes>"
      ]
     },
     "metadata": {
      "needs_background": "light"
     },
     "output_type": "display_data"
    }
   ],
   "source": [
    "hour_trip = df_train[['hour', 'trip_duration']].groupby(by=['hour']).agg({'trip_duration': 'count'}).reset_index()\n",
    "\n",
    "fig, ax = plt.subplots(figsize=(12, 7))\n",
    "sns.barplot(data = hour_trip,\n",
    "            x = \"hour\",\n",
    "            y = \"trip_duration\",\n",
    "            ax = ax)\n",
    "ax.set_title(\"Trips by hour\")\n",
    "ax.set_xlabel(\"Hour\")\n",
    "ax.set_ylabel(\"Trips\")"
   ]
  },
  {
   "cell_type": "markdown",
   "metadata": {
    "id": "kIcr5WfI39g9"
   },
   "source": [
    "Era de esperarse que los horarios con mayor cantidad de viajes sean al finalizar la jornada laboral (6-7pm). Sin embargo, también podemos revisar el promedio de duración de los viajes dependiendo de la hora en la que inició el servicio."
   ]
  },
  {
   "cell_type": "code",
   "execution_count": 21,
   "metadata": {
    "id": "g5ofeQjf_LBi"
   },
   "outputs": [
    {
     "data": {
      "text/plain": [
       "Text(0, 0.5, 'Avg Trip Duration')"
      ]
     },
     "execution_count": 21,
     "metadata": {},
     "output_type": "execute_result"
    },
    {
     "data": {
      "image/png": "[encoded data removed]",
      "text/plain": [
       "<Figure size 864x504 with 1 Axes>"
      ]
     },
     "metadata": {
      "needs_background": "light"
     },
     "output_type": "display_data"
    }
   ],
   "source": [
    "fig, ax = plt.subplots(figsize=(12, 7))\n",
    "sns.barplot(data = df_train,\n",
    "            x = \"hour\",\n",
    "            y = \"trip_duration\",\n",
    "            ax = ax)\n",
    "ax.set_title(\"Avg Trip Duration by hour\")\n",
    "ax.set_xlabel(\"Hour\")\n",
    "ax.set_ylabel(\"Avg Trip Duration\")"
   ]
  },
  {
   "cell_type": "markdown",
   "metadata": {
    "id": "HjN8iLbD4HbY"
   },
   "source": [
    "Analizando la gráfica podemos ver que el tiempo promedio de viaje varía de acuerdo a la hora de inicio del viaje lo que quiere decir que la hora puede ser una variable interesante para predecir el tiempo de duración del viaje."
   ]
  },
  {
   "cell_type": "markdown",
   "metadata": {
    "id": "1K3rHxEn4LkU"
   },
   "source": [
    "#### Weekday"
   ]
  },
  {
   "cell_type": "code",
   "execution_count": 22,
   "metadata": {
    "id": "IyFOBbm3_76k"
   },
   "outputs": [
    {
     "data": {
      "text/plain": [
       "Text(0, 0.5, 'Trips')"
      ]
     },
     "execution_count": 22,
     "metadata": {},
     "output_type": "execute_result"
    },
    {
     "data": {
      "image/png": "[encoded data removed]",
      "text/plain": [
       "<Figure size 864x504 with 1 Axes>"
      ]
     },
     "metadata": {
      "needs_background": "light"
     },
     "output_type": "display_data"
    }
   ],
   "source": [
    "weekday_trip = df_train[['weekday', 'trip_duration']].groupby(by=['weekday']).agg({'trip_duration': 'count'}).reset_index()\n",
    "\n",
    "fig, ax = plt.subplots(figsize=(12, 7))\n",
    "sns.lineplot(data = weekday_trip,\n",
    "             x = \"weekday\",\n",
    "             y = \"trip_duration\",\n",
    "             ax = ax,\n",
    "             markers = True)\n",
    "ax.set_title(\"Trips by weekday\")\n",
    "ax.set_xlabel(\"weekday\")\n",
    "ax.set_ylabel(\"Trips\")"
   ]
  },
  {
   "cell_type": "markdown",
   "metadata": {
    "id": "qIrXC3ln4cfo"
   },
   "source": [
    "Teniendo en cuenta la documentación de `pandas` sobre la función [weekday](https://pandas.pydata.org/docs/reference/api/pandas.DatetimeIndex.weekday.html) podemos ver que 0 indica el día lunes y 6 el domingo. Teniendo en cuenta esto, podemos concluir que los días con mayor cantidad de viajes en taxi son los días cercanos al fin de semana, más específicamente entre jueves y sábado."
   ]
  },
  {
   "cell_type": "markdown",
   "metadata": {
    "id": "CpuvG3kp4t9n"
   },
   "source": [
    "**CHECK POINT #3**\n",
    "Grafica un barplot teniendo en cuenta el día de la semana (`weekday`) y el promedio de la duración del viaje (`trip_duration`).¿Qué puedes concluir del resultado? ¿Crees que esta variable es relevante para el modelo predictivo?"
   ]
  },
  {
   "cell_type": "code",
   "execution_count": 23,
   "metadata": {
    "id": "NubGSqILAkV9"
   },
   "outputs": [
    {
     "data": {
      "text/plain": [
       "Text(0, 0.5, 'Avg Trip Duration')"
      ]
     },
     "execution_count": 23,
     "metadata": {},
     "output_type": "execute_result"
    },
    {
     "data": {
      "image/png": "[encoded data removed]",
      "text/plain": [
       "<Figure size 864x504 with 1 Axes>"
      ]
     },
     "metadata": {
      "needs_background": "light"
     },
     "output_type": "display_data"
    }
   ],
   "source": [
    "fig, ax = plt.subplots(figsize=(12, 7))\n",
    "sns.barplot(data = df_train,\n",
    "            x = \"weekday\",\n",
    "            y = \"trip_duration\",\n",
    "            ax = ax)\n",
    "ax.set_title(\"Avg Trip Duration by weekday\")\n",
    "ax.set_xlabel(\"weekday\")\n",
    "ax.set_ylabel(\"Avg Trip Duration\")"
   ]
  },
  {
   "cell_type": "markdown",
   "metadata": {
    "id": "Z7mrXbdV48Qs"
   },
   "source": [
    "#### Passengers"
   ]
  },
  {
   "cell_type": "code",
   "execution_count": 24,
   "metadata": {
    "id": "isHLb9ZaBDfN"
   },
   "outputs": [
    {
     "data": {
      "text/html": [
       "<div>\n",
       "<style scoped>\n",
       "    .dataframe tbody tr th:only-of-type {\n",
       "        vertical-align: middle;\n",
       "    }\n",
       "\n",
       "    .dataframe tbody tr th {\n",
       "        vertical-align: top;\n",
       "    }\n",
       "\n",
       "    .dataframe thead tr th {\n",
       "        text-align: left;\n",
       "    }\n",
       "\n",
       "    .dataframe thead tr:last-of-type th {\n",
       "        text-align: right;\n",
       "    }\n",
       "</style>\n",
       "<table border=\"1\" class=\"dataframe\">\n",
       "  <thead>\n",
       "    <tr>\n",
       "      <th></th>\n",
       "      <th colspan=\"4\" halign=\"left\">trip_duration</th>\n",
       "    </tr>\n",
       "    <tr>\n",
       "      <th></th>\n",
       "      <th>count</th>\n",
       "      <th>min</th>\n",
       "      <th>max</th>\n",
       "      <th>mean</th>\n",
       "    </tr>\n",
       "    <tr>\n",
       "      <th>passenger_count</th>\n",
       "      <th></th>\n",
       "      <th></th>\n",
       "      <th></th>\n",
       "      <th></th>\n",
       "    </tr>\n",
       "  </thead>\n",
       "  <tbody>\n",
       "    <tr>\n",
       "      <th>0</th>\n",
       "      <td>17</td>\n",
       "      <td>68</td>\n",
       "      <td>3243</td>\n",
       "      <td>974.64706</td>\n",
       "    </tr>\n",
       "    <tr>\n",
       "      <th>1</th>\n",
       "      <td>1025335</td>\n",
       "      <td>61</td>\n",
       "      <td>35426</td>\n",
       "      <td>831.46356</td>\n",
       "    </tr>\n",
       "    <tr>\n",
       "      <th>2</th>\n",
       "      <td>209112</td>\n",
       "      <td>61</td>\n",
       "      <td>35022</td>\n",
       "      <td>883.29541</td>\n",
       "    </tr>\n",
       "    <tr>\n",
       "      <th>3</th>\n",
       "      <td>59547</td>\n",
       "      <td>61</td>\n",
       "      <td>32495</td>\n",
       "      <td>872.48803</td>\n",
       "    </tr>\n",
       "    <tr>\n",
       "      <th>4</th>\n",
       "      <td>28226</td>\n",
       "      <td>61</td>\n",
       "      <td>10380</td>\n",
       "      <td>892.02406</td>\n",
       "    </tr>\n",
       "    <tr>\n",
       "      <th>5</th>\n",
       "      <td>77583</td>\n",
       "      <td>61</td>\n",
       "      <td>34920</td>\n",
       "      <td>849.98556</td>\n",
       "    </tr>\n",
       "    <tr>\n",
       "      <th>6</th>\n",
       "      <td>48033</td>\n",
       "      <td>61</td>\n",
       "      <td>34916</td>\n",
       "      <td>840.75163</td>\n",
       "    </tr>\n",
       "    <tr>\n",
       "      <th>8</th>\n",
       "      <td>1</td>\n",
       "      <td>104</td>\n",
       "      <td>104</td>\n",
       "      <td>104.00000</td>\n",
       "    </tr>\n",
       "    <tr>\n",
       "      <th>9</th>\n",
       "      <td>1</td>\n",
       "      <td>560</td>\n",
       "      <td>560</td>\n",
       "      <td>560.00000</td>\n",
       "    </tr>\n",
       "  </tbody>\n",
       "</table>\n",
       "</div>"
      ],
      "text/plain": [
       "                trip_duration                      \n",
       "                        count  min    max      mean\n",
       "passenger_count                                    \n",
       "0                          17   68   3243 974.64706\n",
       "1                     1025335   61  35426 831.46356\n",
       "2                      209112   61  35022 883.29541\n",
       "3                       59547   61  32495 872.48803\n",
       "4                       28226   61  10380 892.02406\n",
       "5                       77583   61  34920 849.98556\n",
       "6                       48033   61  34916 840.75163\n",
       "8                           1  104    104 104.00000\n",
       "9                           1  560    560 560.00000"
      ]
     },
     "execution_count": 24,
     "metadata": {},
     "output_type": "execute_result"
    }
   ],
   "source": [
    "passengers_trip = df_train[['passenger_count','trip_duration']].groupby(by=['passenger_count']).agg({'trip_duration':['count','min','max',np.mean]})#.reset_index()\n",
    "passengers_trip"
   ]
  },
  {
   "cell_type": "markdown",
   "metadata": {
    "id": "Nt_SCfYI5GB9"
   },
   "source": [
    "De la tabla anterior podemos concluir:\n",
    "* Los viajes de 0 pasajeros tienen la duración media más alta de todos los grupos por cantidad de pasajeros.\n",
    "* La mayoría de los viajes los realiza una persona.\n",
    "* La duración media de los viajes son muy similares independientemente si va de 1 a 6 personas."
   ]
  },
  {
   "cell_type": "markdown",
   "metadata": {
    "id": "h10w3uCy5TuB"
   },
   "source": [
    "#### Pickup and dropoff borough\n",
    "Con `pandas` también podemos hacer tablas dinámicas como las que conocemos de Excel. Para esto, usamos el método `pivot_table` como lo vemos a continuación."
   ]
  },
  {
   "cell_type": "code",
   "execution_count": 25,
   "metadata": {
    "id": "daBsyauSCOEm"
   },
   "outputs": [
    {
     "data": {
      "text/html": [
       "<div>\n",
       "<style scoped>\n",
       "    .dataframe tbody tr th:only-of-type {\n",
       "        vertical-align: middle;\n",
       "    }\n",
       "\n",
       "    .dataframe tbody tr th {\n",
       "        vertical-align: top;\n",
       "    }\n",
       "\n",
       "    .dataframe thead th {\n",
       "        text-align: right;\n",
       "    }\n",
       "</style>\n",
       "<table border=\"1\" class=\"dataframe\">\n",
       "  <thead>\n",
       "    <tr style=\"text-align: right;\">\n",
       "      <th>dropoff_borough</th>\n",
       "      <th>Bronx</th>\n",
       "      <th>Brooklyn</th>\n",
       "      <th>Manhattan</th>\n",
       "      <th>Queens</th>\n",
       "      <th>Staten_island</th>\n",
       "    </tr>\n",
       "    <tr>\n",
       "      <th>pickup_borough</th>\n",
       "      <th></th>\n",
       "      <th></th>\n",
       "      <th></th>\n",
       "      <th></th>\n",
       "      <th></th>\n",
       "    </tr>\n",
       "  </thead>\n",
       "  <tbody>\n",
       "    <tr>\n",
       "      <th>Bronx</th>\n",
       "      <td>630.02091</td>\n",
       "      <td>2257.80000</td>\n",
       "      <td>990.68125</td>\n",
       "      <td>1349.42857</td>\n",
       "      <td>3628.40000</td>\n",
       "    </tr>\n",
       "    <tr>\n",
       "      <th>Brooklyn</th>\n",
       "      <td>2104.64354</td>\n",
       "      <td>650.62332</td>\n",
       "      <td>976.51092</td>\n",
       "      <td>1903.21012</td>\n",
       "      <td>2835.20470</td>\n",
       "    </tr>\n",
       "    <tr>\n",
       "      <th>Manhattan</th>\n",
       "      <td>1546.77994</td>\n",
       "      <td>1055.14337</td>\n",
       "      <td>646.76543</td>\n",
       "      <td>1758.74042</td>\n",
       "      <td>2740.65887</td>\n",
       "    </tr>\n",
       "    <tr>\n",
       "      <th>Queens</th>\n",
       "      <td>1692.97097</td>\n",
       "      <td>2030.90487</td>\n",
       "      <td>1929.40611</td>\n",
       "      <td>936.21525</td>\n",
       "      <td>1670.33264</td>\n",
       "    </tr>\n",
       "    <tr>\n",
       "      <th>Staten_island</th>\n",
       "      <td>2531.93363</td>\n",
       "      <td>2538.14616</td>\n",
       "      <td>2872.78659</td>\n",
       "      <td>1468.85976</td>\n",
       "      <td>1261.80725</td>\n",
       "    </tr>\n",
       "  </tbody>\n",
       "</table>\n",
       "</div>"
      ],
      "text/plain": [
       "dropoff_borough      Bronx   Brooklyn  Manhattan     Queens  Staten_island\n",
       "pickup_borough                                                            \n",
       "Bronx            630.02091 2257.80000  990.68125 1349.42857     3628.40000\n",
       "Brooklyn        2104.64354  650.62332  976.51092 1903.21012     2835.20470\n",
       "Manhattan       1546.77994 1055.14337  646.76543 1758.74042     2740.65887\n",
       "Queens          1692.97097 2030.90487 1929.40611  936.21525     1670.33264\n",
       "Staten_island   2531.93363 2538.14616 2872.78659 1468.85976     1261.80725"
      ]
     },
     "execution_count": 25,
     "metadata": {},
     "output_type": "execute_result"
    }
   ],
   "source": [
    "pivot_table = pd.pivot_table(df_train, values='trip_duration', index=['pickup_borough'],\n",
    "                             columns=['dropoff_borough'], aggfunc=np.mean)\n",
    "pivot_table"
   ]
  },
  {
   "cell_type": "markdown",
   "metadata": {
    "id": "IYyJW8kP5ls8"
   },
   "source": [
    "Dado que en la tabla dinámica estamos comparando la misma métrica de promedio de duración del viaje entre diferentes destinos, podemos usar la gráfica de `heatmap` de `seaborn` para hacer la tabla más amigable con el usuario y de esta forma se pueden sacar conclusiones más rápidas."
   ]
  },
  {
   "cell_type": "code",
   "execution_count": 26,
   "metadata": {
    "id": "t5lZvrKwDI2u"
   },
   "outputs": [
    {
     "data": {
      "text/plain": [
       "<AxesSubplot:xlabel='dropoff_borough', ylabel='pickup_borough'>"
      ]
     },
     "execution_count": 26,
     "metadata": {},
     "output_type": "execute_result"
    },
    {
     "data": {
      "image/png": "[encoded data removed]",
      "text/plain": [
       "<Figure size 1800x720 with 2 Axes>"
      ]
     },
     "metadata": {
      "needs_background": "light"
     },
     "output_type": "display_data"
    }
   ],
   "source": [
    "plt.subplots(figsize=(25, 10))\n",
    "sns.heatmap(pivot_table)"
   ]
  },
  {
   "cell_type": "markdown",
   "metadata": {
    "id": "2i_SI17w5s5g"
   },
   "source": [
    "Podemos concluir que la combinación de locación inicial y locación final son determinantes para predecir la duración del viaje, por lo tanto, son variables que definitivamente deben estar incluidas en el modelo de predicción."
   ]
  },
  {
   "cell_type": "markdown",
   "metadata": {
    "id": "9cnagq_k51qJ"
   },
   "source": [
    "#### Referencias\n",
    "Aquí podrás encontrar los links de la documentación de las librerías que usamos durante el workshop.\n",
    "* [`pandas`](https://pandas.pydata.org/docs/reference/api/pandas.DataFrame.agg.html)\n",
    "* [`seaborn`](https://seaborn.pydata.org/)\n",
    "* [`matplotlib`](https://matplotlib.org/)\n",
    "* [`plotly`](https://plotly.com/)\n",
    "\n",
    "Adicionalmente, te recomendamos leer el libro Python Data Science Handbook de Jake VanderPlas, donde podrás encontrar muy buen contenido sobre manejo de datos a través de `numpy` y `pandas`, visualización con `matplotlib` y desarrollo de modelos de machine learning con `scikit-learn`."
   ]
  },
  {
   "cell_type": "markdown",
   "metadata": {
    "id": "YOi5nzpV52Ac"
   },
   "source": [
    "**CHECK POINT #4**\n",
    "\n",
    "Agrega tu notebook a la rama que creaste, realiza el `commit` correspondiente y realiza merge con la rama `main`."
   ]
  },
  {
   "cell_type": "code",
   "execution_count": null,
   "metadata": {
    "id": "Q1IB8wut6rAP"
   },
   "outputs": [],
   "source": []
  }
 ],
 "metadata": {
  "colab": {
   "collapsed_sections": [],
   "name": "session1_eda.ipynb",
   "provenance": []
  },
  "kernelspec": {
   "display_name": "Python 3 (ipykernel)",
   "language": "python",
   "name": "python3"
  },
  "language_info": {
   "codemirror_mode": {
    "name": "ipython",
    "version": 3
   },
   "file_extension": ".py",
   "mimetype": "text/x-python",
   "name": "python",
   "nbconvert_exporter": "python",
   "pygments_lexer": "ipython3",
   "version": "3.8.12"
  }
 },
 "nbformat": 4,
 "nbformat_minor": 1
}
